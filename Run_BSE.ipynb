{
 "cells": [
  {
   "cell_type": "code",
   "execution_count": 1,
   "id": "10c27475",
   "metadata": {},
   "outputs": [
    {
     "name": "stdout",
     "output_type": "stream",
     "text": [
      "\n",
      "sess0001;  \n",
      "\n",
      "sess0002;  \n",
      "\n",
      "sess0003;  \n",
      "\n",
      "sess0004;  \n",
      "\n",
      "sess0005;  \n",
      "\n",
      "sess0006;  \n"
     ]
    }
   ],
   "source": [
    "%run BSE.py"
   ]
  },
  {
   "cell_type": "code",
   "execution_count": null,
   "id": "e277a190",
   "metadata": {},
   "outputs": [],
   "source": []
  }
 ],
 "metadata": {
  "kernelspec": {
   "display_name": "Python 3 (ipykernel)",
   "language": "python",
   "name": "python3"
  },
  "language_info": {
   "codemirror_mode": {
    "name": "ipython",
    "version": 3
   },
   "file_extension": ".py",
   "mimetype": "text/x-python",
   "name": "python",
   "nbconvert_exporter": "python",
   "pygments_lexer": "ipython3",
   "version": "3.10.0"
  }
 },
 "nbformat": 4,
 "nbformat_minor": 5
}
